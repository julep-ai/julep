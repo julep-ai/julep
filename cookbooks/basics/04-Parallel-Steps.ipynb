{
 "cells": [
  {
   "cell_type": "markdown",
   "metadata": {},
   "source": [
    "# Parallel Steps\n",
    "Example of running steps in parallel.\n"
   ]
  },
  {
   "cell_type": "code",
   "execution_count": null,
   "metadata": {},
   "outputs": [],
   "source": [
    "import yaml\n",
    "task_def = yaml.safe_load('''\nname: Parallel Example\ndescription: Process items concurrently\nmain:\n  - map:\n      over: $ input.items\n      parallelism: 2\n      prompt:\n        - role: user\n          content: $ _\n''')\n",
    "task = client.tasks.create(agent_id=agent.id, **task_def)"
   ]
  },
  {
   "cell_type": "markdown",
   "metadata": {},
   "source": [
    "## Related Concepts\n",
    "\n",
    "- [Agents](/concepts/agents)\n",
    "- [Tasks](/concepts/tasks)\n",
    "- [Tools](/concepts/tools)\n"
   ]
  }
 ],
 "metadata": {
  "kernelspec": {
   "display_name": "julep",
   "language": "python",
   "name": "python3"
  },
  "language_info": {
   "name": "python",
   "version": "3.12.3"
  }
 },
 "nbformat": 4,
 "nbformat_minor": 2
}
