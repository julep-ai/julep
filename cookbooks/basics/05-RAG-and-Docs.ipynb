{
 "cells": [
  {
   "cell_type": "markdown",
   "metadata": {},
   "source": [
    "# RAG and Docs\n\nFollowing [04-Parallel-Steps.ipynb](04-Parallel-Steps.ipynb), this notebook demonstrates basic Retrieval Augmented Generation (RAG) using documents."
   ]
  },
  {
   "cell_type": "code",
   "execution_count": null,
   "metadata": {},
   "outputs": [],
   "source": [
    "session = client.sessions.create(agent=agent.id, recall=True, recall_options={'mode':'vector','limit':5})\n",
    "# Assume a document has been uploaded to the user\n",
    "response = client.sessions.chat(session_id=session.id, messages=[{ 'role':'user', 'content':'Tell me about Julep' }])\n",
    "print(response.choices[0].message.content)"
   ]
  },
  {
   "cell_type": "markdown",
   "metadata": {},
   "source": [
    "## Related Concepts\n",
    "\n",
    "- [Agents](/concepts/agents)\n",
    "- [Tasks](/concepts/tasks)\n",
    "- [Tools](/concepts/tools)\n"
   ]
  }
 ],
 "metadata": {
  "kernelspec": {
   "display_name": "julep",
   "language": "python",
   "name": "python3"
  },
  "language_info": {
   "name": "python",
   "version": "3.12.3"
  }
 },
 "nbformat": 4,
 "nbformat_minor": 2
}
