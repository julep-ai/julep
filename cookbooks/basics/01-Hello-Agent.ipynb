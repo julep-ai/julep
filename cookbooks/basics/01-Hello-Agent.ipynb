{
 "cells": [
  {
   "cell_type": "markdown",
   "metadata": {},
   "source": [
    "# Hello Agent\n",
    "Create a basic agent using Julep.\n"
   ]
  },
  {
   "cell_type": "code",
   "execution_count": null,
   "metadata": {},
   "outputs": [],
   "source": [
    "from julep import Client\n",
    "import os, uuid\n\n",
    "client = Client(api_key=os.getenv('JULEP_API_KEY'))\n",
    "agent = client.agents.create(name='Hello Agent', model='gpt-4o', about='Basic example agent')"
   ]
  },
  {
   "cell_type": "code",
   "execution_count": null,
   "metadata": {},
   "outputs": [],
   "source": [
    "session = client.sessions.create(agent_id=agent.id)\n",
    "response = client.sessions.chat(session_id=session.id, messages=[{\"role\": \"user\", \"content\": 'hello'}])\n",
    "print(response.choices[0].message.content)"
   ]
  },
  {
   "cell_type": "markdown",
   "metadata": {},
   "source": [
    "## Related Concepts\n",
    "\n",
    "- [Agents](https://docs.julep.ai/concepts/agents)\n",
    "- [Tasks](https://docs.julep.ai/concepts/tasks)\n",
    "- [Tools](https://docs.julep.ai/concepts/tools)\n"
   ]
  }
 ],
 "metadata": {
  "kernelspec": {
   "display_name": "julep",
   "language": "python",
   "name": "python3"
  },
  "language_info": {
   "name": "python",
   "version": "3.12.3"
  }
 },
 "nbformat": 4,
 "nbformat_minor": 2
}
