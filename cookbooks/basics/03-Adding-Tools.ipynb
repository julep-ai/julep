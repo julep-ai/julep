{
 "cells": [
  {
   "cell_type": "markdown",
   "metadata": {},
   "source": [
    "# Adding Tools\n\nContinuing from [02-Simple-Task.ipynb](02-Simple-Task.ipynb), this notebook demonstrates how to attach a tool to the agent."
   ]
  },
  {
   "cell_type": "code",
   "execution_count": null,
   "metadata": {},
   "outputs": [],
   "source": [
    "tool = client.agents.tools.create(\n    agent_id=agent.id,\n    name='wikipedia_search',\n    type='integration',\n    integration={'provider':'wikipedia'}\n)"
   ]
  },
  {
   "cell_type": "markdown",
   "metadata": {},
   "source": [
    "After creating the tool you can reference it within task definitions."
   ]
  }
 ],
 "metadata": {
  "kernelspec": {
   "display_name": "julep",
   "language": "python",
   "name": "python3"
  },
  "language_info": {
   "name": "python",
   "version": "3.12.3"
  }
 },
 "nbformat": 4,
 "nbformat_minor": 2
}
