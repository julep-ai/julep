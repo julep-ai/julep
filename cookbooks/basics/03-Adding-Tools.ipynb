{
 "cells": [
  {
   "cell_type": "markdown",
   "metadata": {},
   "source": [
    "# Adding Tools\n",
    "Attach a tool to your agent.\n"
   ]
  },
  {
   "cell_type": "code",
   "execution_count": null,
   "metadata": {},
   "outputs": [],
   "source": [
    "tool = client.agents.tools.create(\n    agent_id=agent.id,\n    name='wikipedia_search',\n    type='integration',\n    integration={'provider':'wikipedia'}\n)"
   ]
  },
  {
   "cell_type": "markdown",
   "metadata": {},
   "source": [
    "After creating the tool you can reference it within task definitions."
   ]
  },
  {
   "cell_type": "markdown",
   "metadata": {},
   "source": [
    "## Related Concepts\n",
    "\n",
    "- [Agents](https://docs.julep.ai/concepts/agents)\n",
    "- [Tasks](https://docs.julep.ai/concepts/tasks)\n",
    "- [Tools](https://docs.julep.ai/concepts/tools)\n"
   ]
  }
 ],
 "metadata": {
  "kernelspec": {
   "display_name": "julep",
   "language": "python",
   "name": "python3"
  },
  "language_info": {
   "name": "python",
   "version": "3.12.3"
  }
 },
 "nbformat": 4,
 "nbformat_minor": 2
}
