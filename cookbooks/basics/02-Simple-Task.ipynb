{
 "cells": [
  {
   "cell_type": "markdown",
   "metadata": {},
   "source": [
    "# Simple Task\n",
    "Define a simple task for the agent.\n"
   ]
  },
  {
   "cell_type": "code",
   "execution_count": null,
   "metadata": {},
   "outputs": [],
   "source": [
    "import yaml\n",
    "task_def = yaml.safe_load('''\nname: Echo Task\ndescription: Echo user input\nmain:\n  - prompt:\n      - role: system\n        content: |\n          Say hello and repeat the message.\n      - role: user\n        content: $ input.message\n''')\n",
    "task = client.tasks.create(agent_id=agent.id, **task_def)"
   ]
  },
  {
   "cell_type": "code",
   "execution_count": null,
   "metadata": {},
   "outputs": [],
   "source": [
    "execution = client.executions.create(task_id=task.id, input={'message':'Julep rocks!'})\n",
    "print(execution.status)"
   ]
  },
  {
   "cell_type": "markdown",
   "metadata": {},
   "source": [
    "## Related Concepts\n",
    "\n",
    "- [Agents](/concepts/agents)\n",
    "- [Tasks](/concepts/tasks)\n",
    "- [Tools](/concepts/tools)\n"
   ]
  }
 ],
 "metadata": {
  "kernelspec": {
   "display_name": "julep",
   "language": "python",
   "name": "python3"
  },
  "language_info": {
   "name": "python",
   "version": "3.12.3"
  }
 },
 "nbformat": 4,
 "nbformat_minor": 2
}
