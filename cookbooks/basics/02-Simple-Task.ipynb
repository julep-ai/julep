{
 "cells": [
  {
   "cell_type": "markdown",
   "metadata": {},
   "source": [
    "# Simple Task\n\nIn the previous notebook ([01-Hello-Agent.ipynb](01-Hello-Agent.ipynb)) we created a basic agent. Here we define a simple task for that agent."
   ]
  },
  {
   "cell_type": "code",
   "execution_count": null,
   "metadata": {},
   "outputs": [],
   "source": [
    "import yaml\n",
    "task_def = yaml.safe_load('''\nname: Echo Task\ndescription: Echo user input\nmain:\n  - prompt:\n      - role: system\n        content: |\n          Say hello and repeat the message.\n      - role: user\n        content: $ input.message\n''')\n",
    "task = client.tasks.create(agent_id=agent.id, **task_def)"
   ]
  },
  {
   "cell_type": "code",
   "execution_count": null,
   "metadata": {},
   "outputs": [],
   "source": [
    "execution = client.executions.create(task_id=task.id, input={'message':'Julep rocks!'})\n",
    "print(execution.status)"
   ]
  }
 ],
 "metadata": {
  "kernelspec": {
   "display_name": "julep",
   "language": "python",
   "name": "python3"
  },
  "language_info": {
   "name": "python",
   "version": "3.12.3"
  }
 },
 "nbformat": 4,
 "nbformat_minor": 2
}
