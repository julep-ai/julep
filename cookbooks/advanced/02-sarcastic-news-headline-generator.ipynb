{
 "cells": [
  {
   "cell_type": "markdown",
   "metadata": {},
   "source": [
    "Installing the Julep Client"
   ]
  },
  {
   "cell_type": "code",
   "execution_count": 1,
   "metadata": {},
   "outputs": [],
   "source": [
    "!pip install --upgrade julep --quiet"
   ]
  },
  {
   "cell_type": "code",
   "execution_count": 2,
   "metadata": {},
   "outputs": [],
   "source": [
    "# Global UUID is generated for agent and task\n",
    "import uuid\n",
    "\n",
    "AGENT_UUID = uuid.uuid4()\n",
    "TASK_UUID = uuid.uuid4() "
   ]
  },
  {
   "cell_type": "markdown",
   "metadata": {},
   "source": [
    "## creating julep client with the api key\n"
   ]
  },
  {
   "cell_type": "code",
   "execution_count": 3,
   "metadata": {},
   "outputs": [],
   "source": [
    "from julep import Client\n",
    "import os\n",
    "\n",
    "JULEP_API_KEY = os.environ['JULEP_API_KEY']\n",
    "\n",
    "# Create a client\n",
    "client = Client(api_key=JULEP_API_KEY, environment=\"production\")"
   ]
  },
  {
   "cell_type": "markdown",
   "metadata": {},
   "source": [
    "### Creating an \"agent\"\n",
    "\n",
    "Agent is the object to which LLM settings, like model, temperature along with tools are scoped to.\n",
    "\n",
    "To learn more about the agent, please refer to the Agent section in [Julep Concepts](https://docs.julep.ai/docs/concepts/agents)."
   ]
  },
  {
   "cell_type": "code",
   "execution_count": 4,
   "metadata": {},
   "outputs": [],
   "source": [
    "# Defining the agent\n",
    "name = \"Chad\"\n",
    "about = \"Sarcastic news headline reporter.\"\n",
    "\n",
    "# Create the agent\n",
    "agent = client.agents.create_or_update(\n",
    "    agent_id=AGENT_UUID,\n",
    "    name=name,\n",
    "    about=about,\n",
    "    model=\"claude-3.5-sonnet\",\n",
    ")"
   ]
  },
  {
   "cell_type": "markdown",
   "metadata": {},
   "source": [
    "### Defining a Task\n",
    "\n",
    "Tasks in Julep are Github-Actions-style workflows that define long-running, multi-step actions.\n",
    "\n",
    "You can use them to conduct complex actions by defining them step-by-step.\n",
    "\n",
    "To learn more about tasks, please refer to the `Tasks` section in [Julep Concepts](https://docs.julep.ai/docs/concepts/tasks)."
   ]
  },
  {
   "cell_type": "code",
   "execution_count": 5,
   "metadata": {},
   "outputs": [],
   "source": [
    "import yaml\n",
    "\n",
    "BRAVE_API_KEY = \"YOUR_BRAVE_API_KEY\"\n",
    "\n",
    "# Define the task\n",
    "task_def = yaml.safe_load(f\"\"\"\n",
    "# yaml-language-server: $schema=https://raw.githubusercontent.com/julep-ai/julep/refs/heads/dev/src/schemas/create_task_request.json\n",
    "name: Julep Sarcasm Headline Generator\n",
    "description: This task generates a sarcastic news headline on a user-provided topic.\n",
    "\n",
    "########################################################\n",
    "####################### INPUT SCHEMA ###################\n",
    "########################################################\n",
    "\n",
    "input_schema:\n",
    "  type: object\n",
    "  properties:\n",
    "    topic:\n",
    "      type: string\n",
    "      description: The topic of the news headline\n",
    "\n",
    "########################################################\n",
    "####################### TOOLS ###########################\n",
    "########################################################\n",
    "\n",
    "# Define the tools that the task will use in this workflow\n",
    "tools:\n",
    "- name: brave_search\n",
    "  type: integration\n",
    "  integration:\n",
    "    provider: brave\n",
    "    setup:\n",
    "      brave_api_key: \"{BRAVE_API_KEY}\"\n",
    "\n",
    "########################################################\n",
    "####################### MAIN WORKFLOW ##################\n",
    "########################################################\n",
    "\n",
    "main:\n",
    "# Step 0: Call the brave_search tool with the topic input\n",
    "- tool: brave_search\n",
    "  arguments:\n",
    "    query: $ _.topic + ' funny news'\n",
    "\n",
    "# Step 1: Evaluate step to create a summary of the results\n",
    "- evaluate:\n",
    "    search_results: |-\n",
    "      $ [\n",
    "        {{\n",
    "          'snippet': r['snippet'],\n",
    "          'title': r['title']\n",
    "        }}\n",
    "        for r in _['result']\n",
    "      ]\n",
    "\n",
    "# Step 2: Prompt step to create a summary of the results\n",
    "- prompt:\n",
    "  - role: system\n",
    "    content: >-\n",
    "      $ f'''You are {{agent.about}}.\n",
    "      The user will send you a topic and search results for that topic.\n",
    "      Your goal is to write a sarcastic news headlines based on that topic and search results.'''\n",
    "  - role: user\n",
    "    content: >-\n",
    "      $ f'''My topic is: {{steps[0].input.topic}}.\n",
    "      Here are the search results: {{_}}'''\n",
    "  unwrap: true\n",
    "\n",
    "\"\"\")"
   ]
  },
  {
   "cell_type": "code",
   "execution_count": 6,
   "metadata": {},
   "outputs": [],
   "source": [
    "# creating the task object\n",
    "task = client.tasks.create_or_update(\n",
    "    task_id=TASK_UUID,\n",
    "    agent_id=AGENT_UUID,\n",
    "    **task_def\n",
    ")"
   ]
  },
  {
   "cell_type": "markdown",
   "metadata": {},
   "source": [
    "### Creating an Execution\n",
    "\n",
    "An execution is a single run of a task. It is a way to run a task with a specific set of inputs.\n",
    "\n",
    "To learn more about executions, please refer to the `Executions` section in [Julep Concepts](https://docs.julep.ai/docs/concepts/execution)."
   ]
  },
  {
   "cell_type": "code",
   "execution_count": 7,
   "metadata": {},
   "outputs": [],
   "source": [
    "# creating an execution object\n",
    "execution = client.executions.create(\n",
    "    task_id=TASK_UUID,\n",
    "    input={\n",
    "        \"topic\": \"Elon Musk\"\n",
    "    }\n",
    ")"
   ]
  },
  {
   "cell_type": "markdown",
   "metadata": {},
   "source": [
    "## Checking execution details and output"
   ]
  },
  {
   "cell_type": "markdown",
   "metadata": {},
   "source": [
    "There are multiple ways to get the execution details and the output:\n",
    "\n",
    "1. **Get Execution Details**: This method retrieves the details of the execution, including the output of the last transition that took place.\n",
    "\n",
    "2. **List Transitions**: This method lists all the task steps that have been executed up to this point in time, so the output of a successful execution will be the output of the last transition (first in the transition list as it is in reverse chronological order), which should have a type of `finish`.\n",
    "\n",
    "\n",
    "<span style=\"color:olive;\">Note: You need to wait for a few seconds for the execution to complete before you can get the final output, so feel free to run the following cells multiple times until you get the final output.</span>\n"
   ]
  },
  {
   "cell_type": "code",
   "execution_count": 8,
   "metadata": {},
   "outputs": [
    {
     "name": "stdout",
     "output_type": "stream",
     "text": [
      "\"Genius Billionaire Desperately Attempts Comedy, Proves Money Can't Buy Sense of Humor\"\n",
      "\n",
      "\"Breaking: World's Richest Man Still Can't Figure Out How to Make People Genuinely Like Him\"\n",
      "\n",
      "\"Shocking Report: Man Who Named Child 'X \u00c6 A-12' May Not Be Most Stable CEO\"\n",
      "\n",
      "\"Former Trump Officials Suggest Drug Tests for Musk; Musk Agrees, Proving He Might Actually Need One\"\n",
      "\n",
      "\"Billionaire Space Enthusiast Too Busy Being 'Funny' on Twitter to Notice Everyone's Cringing\"\n",
      "\n",
      "\"Studies Show Being Worth $180 Billion Still Won't Make Your Memes Any Better\"\n",
      "\n",
      "\"Man Who Could End World Hunger Chooses to Post Dad Jokes on Social Media Instead\"\n",
      "\n",
      "\"Breaking: Local Attention-Seeking Billionaire Still Seeking Attention, More at 11\"\n"
     ]
    }
   ],
   "source": [
    "import time\n",
    "\n",
    "execution = client.executions.get(execution.id)\n",
    "\n",
    "while execution.status != \"succeeded\":\n",
    "    time.sleep(5)\n",
    "    execution = client.executions.get(execution.id)\n",
    "    print(\"Execution status: \", execution.status)\n",
    "    print(\"-\"*50)\n",
    "\n",
    "execution = client.executions.get(execution.id)\n",
    "\n",
    "print(execution.output)"
   ]
  },
  {
   "cell_type": "code",
   "execution_count": 9,
   "metadata": {},
   "outputs": [
    {
     "name": "stdout",
     "output_type": "stream",
     "text": [
      "Transition type:  init\n",
      "Transition output:  {'topic': 'Elon Musk'}\n",
      "--------------------------------------------------\n",
      "Transition type:  step\n",
      "Transition output:  {'result': [{'link': 'https://9gag.com/tag/elon-musk', 'title': 'Best Elon Musk Memes and Images - 9GAG', 'snippet': 'Enjoy the best of new <strong>funny</strong> cursed meme images about <strong>Elon</strong> <strong>Musk</strong>, Twitter, $8 verified badge, Tesla, the Boring Company and more on 9GAG. Never run out of hilarious cursed memes to share.'}, {'link': 'https://www.youtube.com/watch?v=ukxf9AqLsPY', 'title': 'Elon FINALLY Gets the HUMILIATION He Deserves in Front of MILLIONS - YouTube', 'snippet': 'Comedian Bill Burr roasts <strong>Elon</strong> <strong>Musk</strong>, MAGA melts down over SNL, and protesters hit Trump where it hurts\u2014his billionaire bestie&#x27;s wallet. Gabe Sanchez reports ...'}, {'link': 'https://gizmodo.com/elon-musk-is-annoying-unfunny-and-should-probably-take-a-drug-test-trump-officials-reportedly-say-2000587948', 'title': 'Elon Musk Is Annoying, Unfunny, and Should Probably Take a Drug Test, Trump Officials Reportedly Say', 'snippet': 'Administration officials joked to one another about subjecting <strong>Musk</strong> to mandatory drug testing, which <strong>Musk</strong> himself has said would be a \u201cgreat idea\u201d for federal employees. It gets worse. \u201cI have been in the same room with <strong>Elon</strong>, and he always tries to be <strong>funny</strong>.'}]}\n",
      "--------------------------------------------------\n",
      "Transition type:  step\n",
      "Transition output:  {'search_results': [{'title': 'Best Elon Musk Memes and Images - 9GAG', 'snippet': 'Enjoy the best of new <strong>funny</strong> cursed meme images about <strong>Elon</strong> <strong>Musk</strong>, Twitter, $8 verified badge, Tesla, the Boring Company and more on 9GAG. Never run out of hilarious cursed memes to share.'}, {'title': 'Elon FINALLY Gets the HUMILIATION He Deserves in Front of MILLIONS - YouTube', 'snippet': 'Comedian Bill Burr roasts <strong>Elon</strong> <strong>Musk</strong>, MAGA melts down over SNL, and protesters hit Trump where it hurts\u2014his billionaire bestie&#x27;s wallet. Gabe Sanchez reports ...'}, {'title': 'Elon Musk Is Annoying, Unfunny, and Should Probably Take a Drug Test, Trump Officials Reportedly Say', 'snippet': 'Administration officials joked to one another about subjecting <strong>Musk</strong> to mandatory drug testing, which <strong>Musk</strong> himself has said would be a \u201cgreat idea\u201d for federal employees. It gets worse. \u201cI have been in the same room with <strong>Elon</strong>, and he always tries to be <strong>funny</strong>.'}]}\n",
      "--------------------------------------------------\n",
      "Transition type:  finish\n",
      "Transition output:  \"Genius Billionaire Desperately Attempts Comedy, Proves Money Can't Buy Sense of Humor\"\n",
      "\n",
      "\"Breaking: World's Richest Man Still Can't Figure Out How to Make People Genuinely Like Him\"\n",
      "\n",
      "\"Shocking Report: Man Who Named Child 'X \u00c6 A-12' May Not Be Most Stable CEO\"\n",
      "\n",
      "\"Former Trump Officials Suggest Drug Tests for Musk; Musk Agrees, Proving He Might Actually Need One\"\n",
      "\n",
      "\"Billionaire Space Enthusiast Too Busy Being 'Funny' on Twitter to Notice Everyone's Cringing\"\n",
      "\n",
      "\"Studies Show Being Worth $180 Billion Still Won't Make Your Memes Any Better\"\n",
      "\n",
      "\"Man Who Could End World Hunger Chooses to Post Dad Jokes on Social Media Instead\"\n",
      "\n",
      "\"Breaking: Local Attention-Seeking Billionaire Still Seeking Attention, More at 11\"\n",
      "--------------------------------------------------\n"
     ]
    }
   ],
   "source": [
    "# Lists all the task steps that have been executed up to this point in time\n",
    "transitions = client.executions.transitions.list(execution_id=execution.id).items\n",
    "\n",
    "# Transitions are retrieved in reverse chronological order\n",
    "for transition in reversed(transitions):\n",
    "    print(\"Transition type: \", transition.type)\n",
    "    print(\"Transition output: \", transition.output)\n",
    "    print(\"-\"*50)"
   ]
  },
  {
   "cell_type": "markdown",
   "metadata": {},
   "source": [
    "## Running the same task with a different topic"
   ]
  },
  {
   "cell_type": "markdown",
   "metadata": {},
   "source": [
    "We will use the same code to run the same task, but with a different topic"
   ]
  },
  {
   "cell_type": "code",
   "execution_count": 10,
   "metadata": {},
   "outputs": [],
   "source": [
    "execution = client.executions.create(\n",
    "    task_id=TASK_UUID,\n",
    "    input={\n",
    "        \"topic\": \"Tottenham Hotspur\"\n",
    "    }\n",
    ")"
   ]
  },
  {
   "cell_type": "code",
   "execution_count": 11,
   "metadata": {},
   "outputs": [
    {
     "name": "stdout",
     "output_type": "stream",
     "text": [
      "Execution status:  succeeded\n",
      "--------------------------------------------------\n",
      "\"In Shocking Display of Stockholm Syndrome, Former Arsenal Executive Defects to Tottenham\"\n",
      "\n",
      "\"Desperate Spurs Hire Ex-Arsenal CEO, Proving There's No Rock Bottom They Won't Explore\"\n",
      "\n",
      "\"Local Man Voluntarily Leaves Success to Join Eternal Trophy Drought: A London Tale\"\n",
      "\n",
      "\"Tottenham Finally Wins Something: The Heart of Arsenal's Former CEO\"\n",
      "\n",
      "\"North London Rivalry Takes Bizarre Turn as Spurs Resort to Executive Poaching Instead of Trophy Hunting\"\n",
      "\n",
      "Pick any of these sarcastic headlines that capture the irony of Tottenham hiring their rival Arsenal's former CEO, while playfully jabbing at Spurs' notorious trophy drought and the historic rivalry between the two clubs! \ud83d\ude0f\n"
     ]
    }
   ],
   "source": [
    "import time\n",
    "\n",
    "execution = client.executions.get(execution.id)\n",
    "\n",
    "while execution.status != \"succeeded\":\n",
    "    time.sleep(5)\n",
    "    execution = client.executions.get(execution.id)\n",
    "    print(\"Execution status: \", execution.status)\n",
    "    print(\"-\"*50)\n",
    "\n",
    "execution = client.executions.get(execution.id)\n",
    "\n",
    "print(execution.output)"
   ]
  },
  {
   "cell_type": "markdown",
   "metadata": {},
   "source": [
    "<span style=\"color:olive;\">Note: you can get the output of the search step by accessing the corresponding transition's output from the transitions list.</span>\n",
    "\n",
    "Example:"
   ]
  },
  {
   "cell_type": "code",
   "execution_count": 12,
   "metadata": {},
   "outputs": [
    {
     "data": {
      "text/plain": [
       "{'search_results': [{'title': 'Tottenham Hotspur FC - latest news, pictures, video comment - Football.london',\n",
       "   'snippet': 'The latest <strong>Tottenham</strong> <strong>news</strong>, transfers, fixtures and more. Including Live blogs, pictures, video, podcasts, polls and indepth analysis from our dedicated Spurs writers.'},\n",
       "  {'title': 'Spurs Media Watch, News and Stories',\n",
       "   'snippet': 'These stories have been specially selected from today&#x27;s media. They do not necessarily represent the views or position of <strong>Tottenham</strong> <strong>Hotspur</strong> Football Club. For total Spurs <strong>news</strong> coverage, visit NewsNow.co.uk, the UK&#x27;s #1 football <strong>news</strong> aggregator.'},\n",
       "  {'title': 'Tottenham Hotspur FC - Transfer news, results, fixtures, video and audio',\n",
       "   'snippet': 'Having left Arsenal at the end of the 2023-24 campaign, Venkatesham has bided his time before returning to football. <strong>Tottenham confirmed Venkatesham&#x27;s appointment as their next CEO on Friday</strong>, in news that arrived with an element of surprise given his previous ties with Spurs&#x27; rivals.'}]}"
      ]
     },
     "execution_count": 12,
     "metadata": {},
     "output_type": "execute_result"
    }
   ],
   "source": [
    "transitions = client.executions.transitions.list(execution_id=execution.id).items\n",
    "\n",
    "transitions[1].output"
   ]
  },
  {
   "cell_type": "markdown",
   "metadata": {},
   "source": [
    "## Related Concepts\n",
    "\n",
    "- [Agents](https://docs.julep.ai/concepts/agents)\n",
    "- [Tasks](https://docs.julep.ai/concepts/tasks)\n",
    "- [Tools](https://docs.julep.ai/concepts/tools)\n"
   ]
  }
 ],
 "metadata": {
  "kernelspec": {
   "display_name": ".venv",
   "language": "python",
   "name": "python3"
  },
  "language_info": {
   "codemirror_mode": {
    "name": "ipython",
    "version": 3
   },
   "file_extension": ".py",
   "mimetype": "text/x-python",
   "name": "python",
   "nbconvert_exporter": "python",
   "pygments_lexer": "ipython3",
   "version": "3.12.3"
  }
 },
 "nbformat": 4,
 "nbformat_minor": 2
}
