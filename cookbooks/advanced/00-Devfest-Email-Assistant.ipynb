{
 "cells": [
  {
   "cell_type": "markdown",
   "metadata": {},
   "source": [
    "Installing the Julep Client"
   ]
  },
  {
   "cell_type": "code",
   "execution_count": 66,
   "metadata": {},
   "outputs": [
    {
     "name": "stdout",
     "output_type": "stream",
     "text": [
      "Requirement already satisfied: julep in /home/xmtosx/Work/Julep/julep/agents-api/.venv/lib/python3.12/site-packages (1.73.0)\n",
      "Requirement already satisfied: anyio<5,>=3.5.0 in /home/xmtosx/Work/Julep/julep/agents-api/.venv/lib/python3.12/site-packages (from julep) (4.8.0)\n",
      "Requirement already satisfied: distro<2,>=1.7.0 in /home/xmtosx/Work/Julep/julep/agents-api/.venv/lib/python3.12/site-packages (from julep) (1.9.0)\n",
      "Requirement already satisfied: httpx<1,>=0.23.0 in /home/xmtosx/Work/Julep/julep/agents-api/.venv/lib/python3.12/site-packages (from julep) (0.28.1)\n",
      "Requirement already satisfied: pydantic<3,>=1.9.0 in /home/xmtosx/Work/Julep/julep/agents-api/.venv/lib/python3.12/site-packages (from julep) (2.10.6)\n",
      "Requirement already satisfied: python-dotenv<1.1,>=1.0 in /home/xmtosx/Work/Julep/julep/agents-api/.venv/lib/python3.12/site-packages (from julep) (1.0.1)\n",
      "Requirement already satisfied: ruamel-yaml<0.19,>=0.18.6 in /home/xmtosx/Work/Julep/julep/agents-api/.venv/lib/python3.12/site-packages (from julep) (0.18.10)\n",
      "Requirement already satisfied: sniffio in /home/xmtosx/Work/Julep/julep/agents-api/.venv/lib/python3.12/site-packages (from julep) (1.3.1)\n",
      "Requirement already satisfied: typing-extensions<5,>=4.10 in /home/xmtosx/Work/Julep/julep/agents-api/.venv/lib/python3.12/site-packages (from julep) (4.12.2)\n",
      "Requirement already satisfied: idna>=2.8 in /home/xmtosx/Work/Julep/julep/agents-api/.venv/lib/python3.12/site-packages (from anyio<5,>=3.5.0->julep) (3.10)\n",
      "Requirement already satisfied: certifi in /home/xmtosx/Work/Julep/julep/agents-api/.venv/lib/python3.12/site-packages (from httpx<1,>=0.23.0->julep) (2025.1.31)\n",
      "Requirement already satisfied: httpcore==1.* in /home/xmtosx/Work/Julep/julep/agents-api/.venv/lib/python3.12/site-packages (from httpx<1,>=0.23.0->julep) (1.0.7)\n",
      "Requirement already satisfied: h11<0.15,>=0.13 in /home/xmtosx/Work/Julep/julep/agents-api/.venv/lib/python3.12/site-packages (from httpcore==1.*->httpx<1,>=0.23.0->julep) (0.14.0)\n",
      "Requirement already satisfied: annotated-types>=0.6.0 in /home/xmtosx/Work/Julep/julep/agents-api/.venv/lib/python3.12/site-packages (from pydantic<3,>=1.9.0->julep) (0.7.0)\n",
      "Requirement already satisfied: pydantic-core==2.27.2 in /home/xmtosx/Work/Julep/julep/agents-api/.venv/lib/python3.12/site-packages (from pydantic<3,>=1.9.0->julep) (2.27.2)\n",
      "Requirement already satisfied: ruamel.yaml.clib>=0.2.7 in /home/xmtosx/Work/Julep/julep/agents-api/.venv/lib/python3.12/site-packages (from ruamel-yaml<0.19,>=0.18.6->julep) (0.2.12)\n"
     ]
    }
   ],
   "source": [
    "!pip install julep"
   ]
  },
  {
   "cell_type": "code",
   "execution_count": 67,
   "metadata": {},
   "outputs": [],
   "source": [
    "import uuid\n",
    "\n",
    "AGENT_UUID = uuid.uuid4()\n",
    "TASK_UUID = uuid.uuid4()"
   ]
  },
  {
   "cell_type": "markdown",
   "metadata": {},
   "source": [
    "### Create Julep Client\n"
   ]
  },
  {
   "cell_type": "code",
   "execution_count": 68,
   "metadata": {},
   "outputs": [],
   "source": [
    "from julep import Client\n",
    "\n",
    "JULEP_API_KEY = \"YOUR_JULEP_API_KEY\"\n",
    "\n",
    "# Create a Julep client\n",
    "client = Client(api_key=JULEP_API_KEY, environment=\"production\")"
   ]
  },
  {
   "cell_type": "markdown",
   "metadata": {},
   "source": [
    "### Creating an \"agent\"\n",
    "\n",
    "Agent is the object to which LLM settings, like model, temperature along with tools are scoped to.\n",
    "\n",
    "To learn more about the agent, please refer to the Agent section in [Julep Concepts](https://docs.julep.ai/docs/concepts/agents)."
   ]
  },
  {
   "cell_type": "code",
   "execution_count": 69,
   "metadata": {},
   "outputs": [],
   "source": [
    "agent = client.agents.create_or_update(\n",
    "    agent_id=AGENT_UUID,\n",
    "    name=\"Julep Email Assistant\",\n",
    "    about=(\n",
    "        \"You are an agent that handles emails for julep users.\"\n",
    "        + \" Julep is a platform for creating kick-ass AI agents.\"\n",
    "    ),\n",
    "    model=\"gpt-4o-mini\",\n",
    ")"
   ]
  },
  {
   "cell_type": "markdown",
   "metadata": {},
   "source": [
    "### Defining a Task\n",
    "\n",
    "Tasks in Julep are Github-Actions-style workflows that define long-running, multi-step actions.\n",
    "\n",
    "You can use them to conduct complex actions by defining them step-by-step.\n",
    "\n",
    "To learn more about tasks, please refer to the `Tasks` section in [Julep Concepts](https://docs.julep.ai/docs/concepts/tasks)."
   ]
  },
  {
   "cell_type": "code",
   "execution_count": 76,
   "metadata": {},
   "outputs": [],
   "source": [
    "import yaml\n",
    "\n",
    "MAILGUN_PASSWORD = \"YOUR_MAILGUN_PASSWORD\"\n",
    "\n",
    "task_def = yaml.safe_load(f\"\"\"\n",
    "# yaml-language-server: $schema=https://raw.githubusercontent.com/julep-ai/julep/refs/heads/dev/src/schemas/create_task_request.json\n",
    "name: Julep Email Assistant\n",
    "description: A Julep agent that can send emails and search the documentation.\n",
    "\n",
    "########################################################\n",
    "####################### INPUT SCHEMA ###################\n",
    "########################################################\n",
    "input_schema:\n",
    "  type: object\n",
    "  properties:\n",
    "    from:\n",
    "      type: string\n",
    "    to:\n",
    "      type: string\n",
    "    subject:\n",
    "      type: string\n",
    "    body:\n",
    "      type: string\n",
    "\n",
    "                          \n",
    "########################################################\n",
    "####################### TOOLS ##########################\n",
    "########################################################\n",
    "\n",
    "# Define the tools that the task will use in this workflow\n",
    "tools:\n",
    "- name: send_email\n",
    "  type: integration\n",
    "  integration:\n",
    "    provider: email\n",
    "    setup:\n",
    "      host: smtp.mailgun.org\n",
    "      password: {MAILGUN_PASSWORD}\n",
    "      port: 587\n",
    "      user: postmaster@email.julep.ai\n",
    "\n",
    "- name: search_docs\n",
    "  type: system\n",
    "  system:\n",
    "    resource: agent\n",
    "    subresource: doc\n",
    "    operation: search\n",
    "  \n",
    "########################################################\n",
    "####################### MAIN WORKFLOW ##################\n",
    "########################################################\n",
    "\n",
    "main:\n",
    "# Step 0: Prompt the user for the email details\n",
    "- prompt: |-\n",
    "    $ f'''You are {{ agent.name }}. {{ agent.about }}\n",
    "\n",
    "    A user with email address {{ _['from'] }} has sent the following inquiry:\n",
    "    ------\n",
    "      Subject: {{ _.subject }}\n",
    "\n",
    "      {{ _.body }}\n",
    "    ------\n",
    "\n",
    "    Can you generate a query to search the documentation based on this email?\n",
    "    Just respond with the query as is and nothing else.'''\n",
    "\n",
    "  unwrap: true\n",
    "\n",
    "# Step 1: Search the documentation\n",
    "- tool: search_docs\n",
    "  arguments:\n",
    "    agent_id: {agent.id}\n",
    "    text: $ _\n",
    "    \n",
    "- prompt: >-\n",
    "    $ f'''You are {{ agent.name }}. {{ agent.about }}\n",
    "\n",
    "    A user with email address {{ steps[0].input['from'] }} has sent the following inquiry:\n",
    "    ------\n",
    "      Subject: {{ steps[0].input.subject }}\n",
    "\n",
    "      {{ steps[0].input.body }}\n",
    "    ------\n",
    "\n",
    "    Here are some possibly relevant snippets from the julep documentation:\n",
    "    {{ '\\\\n'.join([snippet.content for doc in _.docs for snippet in doc.snippets]) }}\n",
    "    \n",
    "    ========\n",
    "\n",
    "    Based on the above info, craft an email body to respond with as a json object.\n",
    "    The json object must have `subject` and `body` fields.'''\n",
    "  response_format:\n",
    "    type: json_object\n",
    "    \n",
    "  unwrap: true\n",
    "\n",
    "# Step 3: Extract the email\n",
    "- evaluate:\n",
    "    subject: $ extract_json(_)['subject']\n",
    "    body: $ extract_json(_)['body']\n",
    "\n",
    "# Step 4: Send the email\n",
    "- tool: send_email\n",
    "  arguments:\n",
    "    body: $ _.body\n",
    "    from: postmaster@email.julep.ai\n",
    "    subject: $  _.subject\n",
    "    to: $ steps[0].input['from']\n",
    "\"\"\")"
   ]
  },
  {
   "cell_type": "code",
   "execution_count": 77,
   "metadata": {},
   "outputs": [],
   "source": [
    "task = client.tasks.create_or_update(\n",
    "    agent_id=AGENT_UUID,\n",
    "    task_id=TASK_UUID,\n",
    "    **task_def,\n",
    ")"
   ]
  },
  {
   "cell_type": "markdown",
   "metadata": {},
   "source": [
    "### Creating an Execution\n",
    "\n",
    "An execution is a single run of a task. It is a way to run a task with a specific set of inputs.\n",
    "\n",
    "To learn more about executions, please refer to the `Executions` section in [Julep Concepts](https://docs.julep.ai/docs/concepts/execution)."
   ]
  },
  {
   "cell_type": "code",
   "execution_count": 84,
   "metadata": {},
   "outputs": [],
   "source": [
    "execution = client.executions.create(\n",
    "    task_id=task.id,\n",
    "    input={\"from\": \"diwank@julep.ai\", \"to\": \"help@agents.new\", \"subject\": \"what's up\", \"body\": \"sup\"},\n",
    ")"
   ]
  },
  {
   "cell_type": "code",
   "execution_count": 85,
   "metadata": {},
   "outputs": [
    {
     "data": {
      "text/plain": [
       "Execution(id='067fd065-3722-7af4-8000-817a972d8c7f', created_at=datetime.datetime(2025, 4, 14, 12, 57, 55, 446101, tzinfo=datetime.timezone.utc), input={'to': 'help@agents.new', 'body': 'sup', 'from': 'diwank@julep.ai', 'subject': \"what's up\"}, status='running', task_id='fdab8052-df0d-4f36-9c5e-01dcd5e0ba3c', updated_at=datetime.datetime(2025, 4, 14, 12, 57, 56, 742329, tzinfo=datetime.timezone.utc), error=None, metadata={}, output={'docs': [], 'time': 0.01}, transition_count=3)"
      ]
     },
     "execution_count": 85,
     "metadata": {},
     "output_type": "execute_result"
    }
   ],
   "source": [
    "client.executions.get(execution.id)"
   ]
  },
  {
   "cell_type": "markdown",
   "metadata": {},
   "source": [
    "### Checking execution details and output\n",
    "\n",
    "There are multiple ways to get the execution details and the output:\n",
    "\n",
    "1. **Get Execution Details**: This method retrieves the details of the execution, including the output of the last transition that took place.\n",
    "\n",
    "2. **List Transitions**: This method lists all the task steps that have been executed up to this point in time, so the output of a successful execution will be the output of the last transition (first in the transition list as it is in reverse chronological order), which should have a type of `finish`.\n",
    "\n",
    "\n",
    "<span style=\"color:olive;\">Note: You need to wait for a few seconds for the execution to complete before you can get the final output, so feel free to run the following cells multiple times until you get the final output.</span>\n"
   ]
  },
  {
   "cell_type": "code",
   "execution_count": 87,
   "metadata": {},
   "outputs": [
    {
     "name": "stdout",
     "output_type": "stream",
     "text": [
      "Type:  init\n",
      "output:  {'to': 'help@agents.new', 'body': 'sup', 'from': 'diwank@julep.ai', 'subject': \"what's up\"}\n",
      "----------------------------------------------------------------------------------------------------\n",
      "Type:  step\n",
      "output:  \"what's up\" OR \"sup\" OR \"general inquiry\"\n",
      "----------------------------------------------------------------------------------------------------\n",
      "Type:  step\n",
      "output:  {'docs': [], 'time': 0.01}\n",
      "----------------------------------------------------------------------------------------------------\n",
      "Type:  step\n",
      "output:  ```json\n",
      "{\n",
      "  \"subject\": \"Hello from Julep!\",\n",
      "  \"body\": \"Hi there! Thanks for reaching out. We're here to help you create amazing AI agents. If you have any specific questions or need assistance with the platform, feel free to ask. Looking forward to hearing from you!\"\n",
      "}\n",
      "```\n",
      "----------------------------------------------------------------------------------------------------\n",
      "Type:  step\n",
      "output:  {'body': \"Hi there! Thanks for reaching out. We're here to help you create amazing AI agents. If you have any specific questions or need assistance with the platform, feel free to ask. Looking forward to hearing from you!\", 'subject': 'Hello from Julep!'}\n",
      "----------------------------------------------------------------------------------------------------\n",
      "Type:  finish\n",
      "output:  {'success': True}\n",
      "----------------------------------------------------------------------------------------------------\n"
     ]
    }
   ],
   "source": [
    "execution_transitions = client.executions.transitions.list(\n",
    "    execution_id=execution.id).items\n",
    "\n",
    "for transition in reversed(execution_transitions):\n",
    "    print(\"Type: \", transition.type)\n",
    "    print(\"output: \", transition.output)\n",
    "    print(\"-\" * 100)"
   ]
  },
  {
   "cell_type": "markdown",
   "metadata": {},
   "source": [
    "## Related Concepts\n",
    "\n",
    "- [Agents](https://docs.julep.ai/concepts/agents)\n",
    "- [Tasks](https://docs.julep.ai/concepts/tasks)\n",
    "- [Tasks](https://docs.julep.ai/concepts/tasks)\n"
   ]
  }
 ],
 "metadata": {
  "kernelspec": {
   "display_name": "Python 3",
   "language": "python",
   "name": "python3"
  },
  "language_info": {
   "codemirror_mode": {
    "name": "ipython",
    "version": 3
   },
   "file_extension": ".py",
   "mimetype": "text/x-python",
   "name": "python",
   "nbconvert_exporter": "python",
   "pygments_lexer": "ipython3",
   "version": "3.12.3"
  }
 },
 "nbformat": 4,
 "nbformat_minor": 4
}
