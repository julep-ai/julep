{
 "cells": [
  {
   "cell_type": "markdown",
   "metadata": {},
   "source": [
    "<div align=\"center\" id=\"top\">\n",
    "<img src=\"https://socialify.git.ci/julep-ai/julep/image?description=1&descriptionEditable=Serverless%20AI%20Workflows%20for%20Data%20%26%20ML%20Teams&font=Source%20Code%20Pro&logo=https%3A%2F%2Fraw.githubusercontent.com%2Fjulep-ai%2Fjulep%2Fdev%2F.github%2Fjulep-logo.svg&owner=1&forks=1&pattern=Solid&stargazers=1&theme=Auto\" alt=\"julep\" />\n",
    "\n",
    "<br>\n",
    "  <p>\n",
    "    <a href=\"https://dashboard.julep.ai\">\n",
    "      <img src=\"https://img.shields.io/badge/Get_API_Key-FF5733?style=logo=data:image/svg+xml;base64,PHN2ZyB4bWxucz0iaHR0cDovL3d3dy53My5vcmcvMjAwMC9zdmciIHZpZXdCb3g9IjAgMCAyNCAyNCIgZmlsbD0id2hpdGUiPjxwYXRoIGQ9Ik0xMiAxTDMgNXYxNGw5IDQgOS00VjVsLTktNHptMCAyLjh2MTYuNEw1IDE2LjJWNi44bDctMy4yem0yIDguMmwtMi0yLTIgMiAyIDIgMi0yeiIvPjwvc3ZnPg==\" alt=\"Get API Key\" height=\"28\">\n",
    "    </a>\n",
    "    <span>&nbsp;</span>\n",
    "    <a href=\"https://docs.julep.ai\">\n",
    "      <img src=\"https://img.shields.io/badge/Documentation-4B32C3?style=logo=gitbook&logoColor=white\" alt=\"Documentation\" height=\"28\">\n",
    "    </a>\n",
    "  </p>\n",
    "  <p>\n",
    "   <a href=\"https://www.npmjs.com/package/@julep/sdk\"><img src=\"https://img.shields.io/npm/v/%40julep%2Fsdk?style=social&amp;logo=npm&amp;link=https%3A%2F%2Fwww.npmjs.com%2Fpackage%2F%40julep%2Fsdk\" alt=\"NPM Version\" height=\"28\"></a>\n",
    "    <span>&nbsp;</span>\n",
    "    <a href=\"https://pypi.org/project/julep\"><img src=\"https://img.shields.io/pypi/v/julep?style=social&amp;logo=python&amp;label=PyPI&amp;link=https%3A%2F%2Fpypi.org%2Fproject%2Fjulep\" alt=\"PyPI - Version\" height=\"28\"></a>\n",
    "    <span>&nbsp;</span>\n",
    "    <a href=\"https://hub.docker.com/u/julepai\"><img src=\"https://img.shields.io/docker/v/julepai/agents-api?sort=semver&amp;style=social&amp;logo=docker&amp;link=https%3A%2F%2Fhub.docker.com%2Fu%2Fjulepai\" alt=\"Docker Image Version\" height=\"28\"></a>\n",
    "    <span>&nbsp;</span>\n",
    "    <a href=\"https://choosealicense.com/licenses/apache/\"><img src=\"https://img.shields.io/github/license/julep-ai/julep\" alt=\"GitHub License\" height=\"28\"></a>\n",
    "  </p>\n",
    "  \n",
    "  <h3>\n",
    "    <a href=\"https://discord.com/invite/JTSBGRZrzj\" rel=\"dofollow\">Discord</a>\n",
    "    ·\n",
    "    <a href=\"https://x.com/julep_ai\" rel=\"dofollow\">𝕏</a>\n",
    "    ·\n",
    "    <a href=\"https://www.linkedin.com/company/julep-ai\" rel=\"dofollow\">LinkedIn</a>\n",
    "  </h3>\n",
    "</div>\n",
    "\n",
    "## Task Definition: Sarcastic News Headline Generator using Brave Search Integration\n",
    "\n",
    "### Overview\n",
    "\n",
    "This task generates a sarcastic news headline on a user-provided topic. It utilizes web search to gather context and information about the topic, then uses this data to create a headline with a sarcastic tone. \n",
    "\n",
    "### Task Flow\n",
    "\n",
    "1. **Input**: \n",
    "   - User provides a topic for the sarcastic news headline (e.g., \"technology\" or \"politics\").\n",
    "\n",
    "2. **Web Search using Bravesearch Integration**: \n",
    "   - Conducts a search to find information about the topic, focusing on humorous or quirky content.\n",
    "   - Gathers relevant context and amusing details for headline generation.\n",
    "\n",
    "3. **Headline Creation**: \n",
    "   - Generates a sarcastic news headline based on the topic and gathered information.\n",
    "   - Combines factual or common perceptions with humor and sarcasm.\n",
    "   \n",
    "4. **Output**: \n",
    "   - Produces a sarcastic, witty headline on the given topic.\n",
    "   - Can be used for entertainment or as a creative writing prompt.\n",
    "\n",
    "### Key Features\n",
    "\n",
    "- Leverages web search to enhance contextual relevance of sarcastic content.\n",
    "- Combines real-world information with humorous twists for engaging headlines.\n",
    "- Adaptable to various topics, allowing for diverse and creative outputs.\n",
    "\n",
    "```plaintext\n",
    "+----------+     +------------+     +------------+     +-----------+\n",
    "|  User    |     |   Brave    |     |   Agent    |     | Sarcastic |\n",
    "|  Input   | --> |   Search   | --> | Processing | --> | Headline  |\n",
    "| (Topic)  |     |            |     |            |     | Output    |\n",
    "+----------+     +------------+     +------------+     +-----------+\n",
    "      |                |                  |                  |\n",
    "      |                |                  |                  |\n",
    "      v                v                  v                  v\n",
    "   \"politics\"        Find funny       Generate witty    \"Area Man Still\n",
    "     content          headline         Believes in        Democracy\"\n",
    "\n",
    "```"
   ]
  },
  {
   "cell_type": "markdown",
   "metadata": {},
   "source": [
    "## Implementation\n",
    "\n",
    "To recreate the notebook and see the code implementation for this task, you can access the Google Colab notebook using the link below:\n",
    "\n",
    "<a target=\"_blank\" href=\"https://colab.research.google.com/github/julep-ai/julep/blob/dev/cookbooks/02-sarcastic-news-headline-generator.ipynb\">\n",
    "  <img src=\"https://colab.research.google.com/assets/colab-badge.svg\" alt=\"Open In Colab\"/>\n",
    "</a>\n",
    "\n",
    "### Additional Information\n",
    "\n",
    "For more details about the task or if you have any questions, please don't hesitate to contact the author:\n",
    "\n",
    "**Author:** Julep AI  \n",
    "**Contact:** [hey@julep.ai](mailto:hey@julep.ai) or  <a href=\"https://discord.com/invite/JTSBGRZrzj\" rel=\"dofollow\">Discord</a>"
   ]
  },
  {
   "cell_type": "markdown",
   "metadata": {},
   "source": [
    "Installing the Julep Client"
   ]
  },
  {
   "cell_type": "code",
   "execution_count": 1,
   "metadata": {},
   "outputs": [],
   "source": [
    "!pip install --upgrade julep --quiet"
   ]
  },
  {
   "cell_type": "markdown",
   "metadata": {},
   "source": [
    "#### NOTE:\n",
    "\n",
    "- UUIDs are generated for both the agent and task to uniquely identify them within the system.\n",
    "- Once created, these UUIDs should remain unchanged for simplicity.\n",
    "- Altering a UUID will result in the system treating it as a new agent or task.\n",
    "- If a UUID is changed, the original agent or task will continue to exist in the system alongside the new one."
   ]
  },
  {
   "cell_type": "code",
   "execution_count": 2,
   "metadata": {},
   "outputs": [],
   "source": [
    "# Global UUID is generated for agent and task\n",
    "import uuid\n",
    "\n",
    "AGENT_UUID = uuid.uuid4()\n",
    "TASK_UUID = uuid.uuid4() "
   ]
  },
  {
   "cell_type": "markdown",
   "metadata": {},
   "source": [
    "## Creating Julep Client with the API Key\n",
    "\n",
    "Get your API key from [here](https://dashboard.julep.ai/)"
   ]
  },
  {
   "cell_type": "code",
   "execution_count": 3,
   "metadata": {},
   "outputs": [],
   "source": [
    "from julep import Client\n",
    "import os\n",
    "\n",
    "JULEP_API_KEY = os.environ['JULEP_API_KEY']\n",
    "\n",
    "# Create a client\n",
    "client = Client(api_key=JULEP_API_KEY, environment=\"production\")"
   ]
  },
  {
   "cell_type": "markdown",
   "metadata": {},
   "source": [
    "### Creating an \"agent\"\n",
    "\n",
    "Agent is the object to which LLM settings, like model, temperature along with tools are scoped to.\n",
    "\n",
    "To learn more about the agent, please refer to the Agent section in [Julep Concepts](https://docs.julep.ai/docs/concepts/agents)."
   ]
  },
  {
   "cell_type": "code",
   "execution_count": 4,
   "metadata": {},
   "outputs": [],
   "source": [
    "# Defining the agent\n",
    "name = \"Chad\"\n",
    "about = \"Sarcastic news headline reporter.\"\n",
    "\n",
    "# Create the agent\n",
    "agent = client.agents.create_or_update(\n",
    "    agent_id=AGENT_UUID,\n",
    "    name=name,\n",
    "    about=about,\n",
    "    model=\"claude-3.5-sonnet\",\n",
    ")"
   ]
  },
  {
   "cell_type": "markdown",
   "metadata": {},
   "source": [
    "### Defining a Task\n",
    "\n",
    "Tasks in Julep are Github-Actions-style workflows that define long-running, multi-step actions.\n",
    "\n",
    "You can use them to conduct complex actions by defining them step-by-step.\n",
    "\n",
    "To learn more about tasks, please refer to the `Tasks` section in [Julep Concepts](https://docs.julep.ai/docs/concepts/tasks)."
   ]
  },
  {
   "cell_type": "code",
   "execution_count": 5,
   "metadata": {},
   "outputs": [],
   "source": [
    "import yaml\n",
    "\n",
    "BRAVE_API_KEY = \"YOUR_BRAVE_API_KEY\"\n",
    "\n",
    "# Define the task\n",
    "task_def = yaml.safe_load(f\"\"\"\n",
    "# yaml-language-server: $schema=https://raw.githubusercontent.com/julep-ai/julep/refs/heads/dev/schemas/create_task_request.json\n",
    "name: Julep Sarcasm Headline Generator\n",
    "description: This task generates a sarcastic news headline on a user-provided topic.\n",
    "\n",
    "########################################################\n",
    "####################### INPUT SCHEMA ###################\n",
    "########################################################\n",
    "\n",
    "input_schema:\n",
    "  type: object\n",
    "  properties:\n",
    "    topic:\n",
    "      type: string\n",
    "      description: The topic of the news headline\n",
    "\n",
    "########################################################\n",
    "####################### TOOLS ###########################\n",
    "########################################################\n",
    "\n",
    "# Define the tools that the task will use in this workflow\n",
    "tools:\n",
    "- name: brave_search\n",
    "  type: integration\n",
    "  integration:\n",
    "    provider: brave\n",
    "    setup:\n",
    "      brave_api_key: \"{BRAVE_API_KEY}\"\n",
    "\n",
    "########################################################\n",
    "####################### MAIN WORKFLOW ##################\n",
    "########################################################\n",
    "\n",
    "main:\n",
    "# Step 0: Call the brave_search tool with the topic input\n",
    "- tool: brave_search\n",
    "  arguments:\n",
    "    query: $ _.topic + ' funny news'\n",
    "\n",
    "# Step 1: Evaluate step to create a summary of the results\n",
    "- evaluate:\n",
    "    search_results: |-\n",
    "      $ [\n",
    "        {{\n",
    "          'snippet': r['snippet'],\n",
    "          'title': r['title']\n",
    "        }}\n",
    "        for r in _['result']\n",
    "      ]\n",
    "\n",
    "# Step 2: Prompt step to create a summary of the results\n",
    "- prompt:\n",
    "  - role: system\n",
    "    content: >-\n",
    "      $ f'''You are {{agent.about}}.\n",
    "      The user will send you a topic and search results for that topic.\n",
    "      Your goal is to write a sarcastic news headlines based on that topic and search results.'''\n",
    "  - role: user\n",
    "    content: >-\n",
    "      $ f'''My topic is: {{steps[0].input.topic}}.\n",
    "      Here are the search results: {{_}}'''\n",
    "  unwrap: true\n",
    "\n",
    "\"\"\")"
   ]
  },
  {
   "cell_type": "markdown",
   "metadata": {},
   "source": [
    "<span style=\"color:olive;\">Notes:</span>\n",
    "- The `unwrap: True` in the prompt step is used to unwrap the output of the prompt step (to unwrap the `choices[0].message.content` from the output of the model).\n",
    "- The `$` sign is used to differentiate between a Python expression and a string.\n",
    "- The `_` refers to the output of the previous step.\n",
    "- The `steps[index].input` refers to the input of the step at `index`.\n",
    "- The `steps[index].output` refers to the output of the step at `index`."
   ]
  },
  {
   "cell_type": "code",
   "execution_count": 6,
   "metadata": {},
   "outputs": [],
   "source": [
    "# creating the task object\n",
    "task = client.tasks.create_or_update(\n",
    "    task_id=TASK_UUID,\n",
    "    agent_id=AGENT_UUID,\n",
    "    **task_def\n",
    ")"
   ]
  },
  {
   "cell_type": "markdown",
   "metadata": {},
   "source": [
    "### Creating an Execution\n",
    "\n",
    "An execution is a single run of a task. It is a way to run a task with a specific set of inputs.\n",
    "\n",
    "To learn more about executions, please refer to the `Executions` section in [Julep Concepts](https://docs.julep.ai/docs/concepts/execution)."
   ]
  },
  {
   "cell_type": "code",
   "execution_count": 7,
   "metadata": {},
   "outputs": [],
   "source": [
    "# creating an execution object\n",
    "execution = client.executions.create(\n",
    "    task_id=TASK_UUID,\n",
    "    input={\n",
    "        \"topic\": \"Elon Musk\"\n",
    "    }\n",
    ")"
   ]
  },
  {
   "cell_type": "markdown",
   "metadata": {},
   "source": [
    "## Checking execution details and output"
   ]
  },
  {
   "cell_type": "markdown",
   "metadata": {},
   "source": [
    "There are multiple ways to get the execution details and the output:\n",
    "\n",
    "1. **Get Execution Details**: This method retrieves the details of the execution, including the output of the last transition that took place.\n",
    "\n",
    "2. **List Transitions**: This method lists all the task steps that have been executed up to this point in time, so the output of a successful execution will be the output of the last transition (first in the transition list as it is in reverse chronological order), which should have a type of `finish`.\n",
    "\n",
    "\n",
    "<span style=\"color:olive;\">Note: You need to wait for a few seconds for the execution to complete before you can get the final output, so feel free to run the following cells multiple times until you get the final output.</span>\n"
   ]
  },
  {
   "cell_type": "code",
   "execution_count": 8,
   "metadata": {},
   "outputs": [
    {
     "name": "stdout",
     "output_type": "stream",
     "text": [
      "\"Genius Billionaire Desperately Attempts Comedy, Proves Money Can't Buy Sense of Humor\"\n",
      "\n",
      "\"Breaking: World's Richest Man Still Can't Figure Out How to Make People Genuinely Like Him\"\n",
      "\n",
      "\"Shocking Report: Man Who Named Child 'X Æ A-12' May Not Be Most Stable CEO\"\n",
      "\n",
      "\"Former Trump Officials Suggest Drug Tests for Musk; Musk Agrees, Proving He Might Actually Need One\"\n",
      "\n",
      "\"Billionaire Space Enthusiast Too Busy Being 'Funny' on Twitter to Notice Everyone's Cringing\"\n",
      "\n",
      "\"Studies Show Being Worth $180 Billion Still Won't Make Your Memes Any Better\"\n",
      "\n",
      "\"Man Who Could End World Hunger Chooses to Post Dad Jokes on Social Media Instead\"\n",
      "\n",
      "\"Breaking: Local Attention-Seeking Billionaire Still Seeking Attention, More at 11\"\n"
     ]
    }
   ],
   "source": [
    "import time\n",
    "\n",
    "execution = client.executions.get(execution.id)\n",
    "\n",
    "while execution.status != \"succeeded\":\n",
    "    time.sleep(5)\n",
    "    execution = client.executions.get(execution.id)\n",
    "    print(\"Execution status: \", execution.status)\n",
    "    print(\"-\"*50)\n",
    "\n",
    "execution = client.executions.get(execution.id)\n",
    "\n",
    "print(execution.output)"
   ]
  },
  {
   "cell_type": "code",
   "execution_count": 9,
   "metadata": {},
   "outputs": [
    {
     "name": "stdout",
     "output_type": "stream",
     "text": [
      "Transition type:  init\n",
      "Transition output:  {'topic': 'Elon Musk'}\n",
      "--------------------------------------------------\n",
      "Transition type:  step\n",
      "Transition output:  {'result': [{'link': 'https://9gag.com/tag/elon-musk', 'title': 'Best Elon Musk Memes and Images - 9GAG', 'snippet': 'Enjoy the best of new <strong>funny</strong> cursed meme images about <strong>Elon</strong> <strong>Musk</strong>, Twitter, $8 verified badge, Tesla, the Boring Company and more on 9GAG. Never run out of hilarious cursed memes to share.'}, {'link': 'https://www.youtube.com/watch?v=ukxf9AqLsPY', 'title': 'Elon FINALLY Gets the HUMILIATION He Deserves in Front of MILLIONS - YouTube', 'snippet': 'Comedian Bill Burr roasts <strong>Elon</strong> <strong>Musk</strong>, MAGA melts down over SNL, and protesters hit Trump where it hurts—his billionaire bestie&#x27;s wallet. Gabe Sanchez reports ...'}, {'link': 'https://gizmodo.com/elon-musk-is-annoying-unfunny-and-should-probably-take-a-drug-test-trump-officials-reportedly-say-2000587948', 'title': 'Elon Musk Is Annoying, Unfunny, and Should Probably Take a Drug Test, Trump Officials Reportedly Say', 'snippet': 'Administration officials joked to one another about subjecting <strong>Musk</strong> to mandatory drug testing, which <strong>Musk</strong> himself has said would be a “great idea” for federal employees. It gets worse. “I have been in the same room with <strong>Elon</strong>, and he always tries to be <strong>funny</strong>.'}]}\n",
      "--------------------------------------------------\n",
      "Transition type:  step\n",
      "Transition output:  {'search_results': [{'title': 'Best Elon Musk Memes and Images - 9GAG', 'snippet': 'Enjoy the best of new <strong>funny</strong> cursed meme images about <strong>Elon</strong> <strong>Musk</strong>, Twitter, $8 verified badge, Tesla, the Boring Company and more on 9GAG. Never run out of hilarious cursed memes to share.'}, {'title': 'Elon FINALLY Gets the HUMILIATION He Deserves in Front of MILLIONS - YouTube', 'snippet': 'Comedian Bill Burr roasts <strong>Elon</strong> <strong>Musk</strong>, MAGA melts down over SNL, and protesters hit Trump where it hurts—his billionaire bestie&#x27;s wallet. Gabe Sanchez reports ...'}, {'title': 'Elon Musk Is Annoying, Unfunny, and Should Probably Take a Drug Test, Trump Officials Reportedly Say', 'snippet': 'Administration officials joked to one another about subjecting <strong>Musk</strong> to mandatory drug testing, which <strong>Musk</strong> himself has said would be a “great idea” for federal employees. It gets worse. “I have been in the same room with <strong>Elon</strong>, and he always tries to be <strong>funny</strong>.'}]}\n",
      "--------------------------------------------------\n",
      "Transition type:  finish\n",
      "Transition output:  \"Genius Billionaire Desperately Attempts Comedy, Proves Money Can't Buy Sense of Humor\"\n",
      "\n",
      "\"Breaking: World's Richest Man Still Can't Figure Out How to Make People Genuinely Like Him\"\n",
      "\n",
      "\"Shocking Report: Man Who Named Child 'X Æ A-12' May Not Be Most Stable CEO\"\n",
      "\n",
      "\"Former Trump Officials Suggest Drug Tests for Musk; Musk Agrees, Proving He Might Actually Need One\"\n",
      "\n",
      "\"Billionaire Space Enthusiast Too Busy Being 'Funny' on Twitter to Notice Everyone's Cringing\"\n",
      "\n",
      "\"Studies Show Being Worth $180 Billion Still Won't Make Your Memes Any Better\"\n",
      "\n",
      "\"Man Who Could End World Hunger Chooses to Post Dad Jokes on Social Media Instead\"\n",
      "\n",
      "\"Breaking: Local Attention-Seeking Billionaire Still Seeking Attention, More at 11\"\n",
      "--------------------------------------------------\n"
     ]
    }
   ],
   "source": [
    "# Lists all the task steps that have been executed up to this point in time\n",
    "transitions = client.executions.transitions.list(execution_id=execution.id).items\n",
    "\n",
    "# Transitions are retrieved in reverse chronological order\n",
    "for transition in reversed(transitions):\n",
    "    print(\"Transition type: \", transition.type)\n",
    "    print(\"Transition output: \", transition.output)\n",
    "    print(\"-\"*50)"
   ]
  },
  {
   "cell_type": "markdown",
   "metadata": {},
   "source": [
    "## Running the same task with a different topic"
   ]
  },
  {
   "cell_type": "markdown",
   "metadata": {},
   "source": [
    "We will use the same code to run the same task, but with a different topic"
   ]
  },
  {
   "cell_type": "code",
   "execution_count": 10,
   "metadata": {},
   "outputs": [],
   "source": [
    "execution = client.executions.create(\n",
    "    task_id=TASK_UUID,\n",
    "    input={\n",
    "        \"topic\": \"Tottenham Hotspur\"\n",
    "    }\n",
    ")"
   ]
  },
  {
   "cell_type": "code",
   "execution_count": 11,
   "metadata": {},
   "outputs": [
    {
     "name": "stdout",
     "output_type": "stream",
     "text": [
      "Execution status:  succeeded\n",
      "--------------------------------------------------\n",
      "\"In Shocking Display of Stockholm Syndrome, Former Arsenal Executive Defects to Tottenham\"\n",
      "\n",
      "\"Desperate Spurs Hire Ex-Arsenal CEO, Proving There's No Rock Bottom They Won't Explore\"\n",
      "\n",
      "\"Local Man Voluntarily Leaves Success to Join Eternal Trophy Drought: A London Tale\"\n",
      "\n",
      "\"Tottenham Finally Wins Something: The Heart of Arsenal's Former CEO\"\n",
      "\n",
      "\"North London Rivalry Takes Bizarre Turn as Spurs Resort to Executive Poaching Instead of Trophy Hunting\"\n",
      "\n",
      "Pick any of these sarcastic headlines that capture the irony of Tottenham hiring their rival Arsenal's former CEO, while playfully jabbing at Spurs' notorious trophy drought and the historic rivalry between the two clubs! 😏\n"
     ]
    }
   ],
   "source": [
    "import time\n",
    "\n",
    "execution = client.executions.get(execution.id)\n",
    "\n",
    "while execution.status != \"succeeded\":\n",
    "    time.sleep(5)\n",
    "    execution = client.executions.get(execution.id)\n",
    "    print(\"Execution status: \", execution.status)\n",
    "    print(\"-\"*50)\n",
    "\n",
    "execution = client.executions.get(execution.id)\n",
    "\n",
    "print(execution.output)"
   ]
  },
  {
   "cell_type": "markdown",
   "metadata": {},
   "source": [
    "<span style=\"color:olive;\">Note: you can get the output of the search step by accessing the corresponding transition's output from the transitions list.</span>\n",
    "\n",
    "Example:"
   ]
  },
  {
   "cell_type": "code",
   "execution_count": 12,
   "metadata": {},
   "outputs": [
    {
     "data": {
      "text/plain": [
       "{'search_results': [{'title': 'Tottenham Hotspur FC - latest news, pictures, video comment - Football.london',\n",
       "   'snippet': 'The latest <strong>Tottenham</strong> <strong>news</strong>, transfers, fixtures and more. Including Live blogs, pictures, video, podcasts, polls and indepth analysis from our dedicated Spurs writers.'},\n",
       "  {'title': 'Spurs Media Watch, News and Stories',\n",
       "   'snippet': 'These stories have been specially selected from today&#x27;s media. They do not necessarily represent the views or position of <strong>Tottenham</strong> <strong>Hotspur</strong> Football Club. For total Spurs <strong>news</strong> coverage, visit NewsNow.co.uk, the UK&#x27;s #1 football <strong>news</strong> aggregator.'},\n",
       "  {'title': 'Tottenham Hotspur FC - Transfer news, results, fixtures, video and audio',\n",
       "   'snippet': 'Having left Arsenal at the end of the 2023-24 campaign, Venkatesham has bided his time before returning to football. <strong>Tottenham confirmed Venkatesham&#x27;s appointment as their next CEO on Friday</strong>, in news that arrived with an element of surprise given his previous ties with Spurs&#x27; rivals.'}]}"
      ]
     },
     "execution_count": 12,
     "metadata": {},
     "output_type": "execute_result"
    }
   ],
   "source": [
    "transitions = client.executions.transitions.list(execution_id=execution.id).items\n",
    "\n",
    "transitions[1].output"
   ]
  }
 ],
 "metadata": {
  "kernelspec": {
   "display_name": ".venv",
   "language": "python",
   "name": "python3"
  },
  "language_info": {
   "codemirror_mode": {
    "name": "ipython",
    "version": 3
   },
   "file_extension": ".py",
   "mimetype": "text/x-python",
   "name": "python",
   "nbconvert_exporter": "python",
   "pygments_lexer": "ipython3",
   "version": "3.12.3"
  }
 },
 "nbformat": 4,
 "nbformat_minor": 2
}
