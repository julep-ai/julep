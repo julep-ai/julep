{
 "cells": [
  {
   "cell_type": "markdown",
   "metadata": {},
   "source": [
    "<div align=\"center\" id=\"top\">\n",
    "<img src=\"https://socialify.git.ci/julep-ai/julep/image?description=1&descriptionEditable=Serverless%20AI%20Workflows%20for%20Data%20%26%20ML%20Teams&font=Source%20Code%20Pro&logo=https%3A%2F%2Fraw.githubusercontent.com%2Fjulep-ai%2Fjulep%2Fdev%2F.github%2Fjulep-logo.svg&owner=1&forks=1&pattern=Solid&stargazers=1&theme=Auto\" alt=\"julep\" />\n",
    "\n",
    "<br>\n",
    "  <p>\n",
    "    <a href=\"https://dashboard.julep.ai\">\n",
    "      <img src=\"https://img.shields.io/badge/Get_API_Key-FF5733?style=logo=data:image/svg+xml;base64,PHN2ZyB4bWxucz0iaHR0cDovL3d3dy53My5vcmcvMjAwMC9zdmciIHZpZXdCb3g9IjAgMCAyNCAyNCIgZmlsbD0id2hpdGUiPjxwYXRoIGQ9Ik0xMiAxTDMgNXYxNGw5IDQgOS00VjVsLTktNHptMCAyLjh2MTYuNEw1IDE2LjJWNi44bDctMy4yem0yIDguMmwtMi0yLTIgMiAyIDIgMi0yeiIvPjwvc3ZnPg==\" alt=\"Get API Key\" height=\"28\">\n",
    "    </a>\n",
    "    <span>&nbsp;</span>\n",
    "    <a href=\"https://docs.julep.ai\">\n",
    "      <img src=\"https://img.shields.io/badge/Documentation-4B32C3?style=logo=gitbook&logoColor=white\" alt=\"Documentation\" height=\"28\">\n",
    "    </a>\n",
    "  </p>\n",
    "  <p>\n",
    "   <a href=\"https://www.npmjs.com/package/@julep/sdk\"><img src=\"https://img.shields.io/npm/v/%40julep%2Fsdk?style=social&amp;logo=npm&amp;link=https%3A%2F%2Fwww.npmjs.com%2Fpackage%2F%40julep%2Fsdk\" alt=\"NPM Version\" height=\"28\"></a>\n",
    "    <span>&nbsp;</span>\n",
    "    <a href=\"https://pypi.org/project/julep\"><img src=\"https://img.shields.io/pypi/v/julep?style=social&amp;logo=python&amp;label=PyPI&amp;link=https%3A%2F%2Fpypi.org%2Fproject%2Fjulep\" alt=\"PyPI - Version\" height=\"28\"></a>\n",
    "    <span>&nbsp;</span>\n",
    "    <a href=\"https://hub.docker.com/u/julepai\"><img src=\"https://img.shields.io/docker/v/julepai/agents-api?sort=semver&amp;style=social&amp;logo=docker&amp;link=https%3A%2F%2Fhub.docker.com%2Fu%2Fjulepai\" alt=\"Docker Image Version\" height=\"28\"></a>\n",
    "    <span>&nbsp;</span>\n",
    "    <a href=\"https://choosealicense.com/licenses/apache/\"><img src=\"https://img.shields.io/github/license/julep-ai/julep\" alt=\"GitHub License\" height=\"28\"></a>\n",
    "  </p>\n",
    "  \n",
    "  <h3>\n",
    "    <a href=\"https://discord.com/invite/JTSBGRZrzj\" rel=\"dofollow\">Discord</a>\n",
    "    ·\n",
    "    <a href=\"https://x.com/julep_ai\" rel=\"dofollow\">𝕏</a>\n",
    "    ·\n",
    "    <a href=\"https://www.linkedin.com/company/julep-ai\" rel=\"dofollow\">LinkedIn</a>\n",
    "  </h3>\n",
    "</div>\n",
    "\n",
    "## Task Definition: Email Assistant\n",
    "\n",
    "### Overview\n",
    "\n",
    "This task creates an email assistant that can receive emails, search through Julep documentation, and respond to user inquiries automatically. It combines email integration with documentation search capabilities to provide relevant and informed responses.\n",
    "\n",
    "### Task Tools:\n",
    "\n",
    "**send_email**: An `integration` type tool that handles email sending via Mailgun SMTP.\n",
    "**search_docs**: A `system` type tool that searches through agent documentation.\n",
    "\n",
    "### Task Input:\n",
    "\n",
    "A dictionary containing:\n",
    "- **from**: Sender's email address\n",
    "- **to**: Recipient's email address\n",
    "- **subject**: Email subject\n",
    "- **body**: Email content\n",
    "\n",
    "### Task Output:\n",
    "\n",
    "An email response sent to the inquirer with:\n",
    "- Generated subject line\n",
    "- Generated response body based on documentation search results\n",
    "\n",
    "### Task Flow\n",
    "\n",
    "1. **Input**: Receive email details (from, to, subject, body)\n",
    "2. **Query Generation**: Generate a search query based on the email content\n",
    "3. **Documentation Search**: Search Julep documentation using the generated query\n",
    "4. **Response Generation**: Create a response using the found documentation\n",
    "5. **Email Sending**: Send the response back to the original sender via Mailgun\n",
    "\n",
    "```plaintext\n",
    "+----------+     +-------------+     +------------+     +-----------+\n",
    "|  Email   |     |    Query    |     |    Doc     |     |  Email    |\n",
    "|  Input   | --> | Generation  | --> |   Search   | --> | Response  |\n",
    "| (Query)  |     |             |     |            |     | Output    |\n",
    "+----------+     +-------------+     +------------+     +-----------+\n",
    "      |                |                  |                  |\n",
    "      |                |                  |                  |\n",
    "      v                v                  v                  v\n",
    "   \"How do I\"     Create search     Find relevant    \"Here's how to\n",
    "  \"use Julep?\"      keywords        documentation    get started...\"\n",
    "```"
   ]
  },
  {
   "cell_type": "markdown",
   "metadata": {},
   "source": [
    "## Implementation\n",
    "\n",
    "To recreate the notebook and see the code implementation for this task, you can access the Google Colab notebook using the link below:\n",
    "\n",
    "<a target=\"_blank\" href=\"https://colab.research.google.com/github/julep-ai/julep/blob/dev/cookbooks/00-Devfest-Email-Assistant.ipynb\">\n",
    "  <img src=\"https://colab.research.google.com/assets/colab-badge.svg\" alt=\"Open In Colab\"/>\n",
    "</a>\n",
    "\n",
    "### Additional Information\n",
    "\n",
    "For more details about the task or if you have any questions, please don't hesitate to contact the author:\n",
    "\n",
    "**Author:** Julep AI  \n",
    "**Contact:** [hey@julep.ai](mailto:hey@julep.ai) or  <a href=\"https://discord.com/invite/JTSBGRZrzj\" rel=\"dofollow\">Discord</a>"
   ]
  },
  {
   "cell_type": "markdown",
   "metadata": {},
   "source": [
    "Installing the Julep Client"
   ]
  },
  {
   "cell_type": "code",
   "execution_count": 22,
   "metadata": {},
   "outputs": [
    {
     "name": "stdout",
     "output_type": "stream",
     "text": [
      "Requirement already satisfied: julep in /home/xmtosx/Work/Julep/julep/agents-api/.venv/lib/python3.12/site-packages (1.43.1)\n",
      "Requirement already satisfied: anyio<5,>=3.5.0 in /home/xmtosx/Work/Julep/julep/agents-api/.venv/lib/python3.12/site-packages (from julep) (4.4.0)\n",
      "Requirement already satisfied: distro<2,>=1.7.0 in /home/xmtosx/Work/Julep/julep/agents-api/.venv/lib/python3.12/site-packages (from julep) (1.9.0)\n",
      "Requirement already satisfied: httpx<1,>=0.23.0 in /home/xmtosx/Work/Julep/julep/agents-api/.venv/lib/python3.12/site-packages (from julep) (0.27.2)\n",
      "Requirement already satisfied: pydantic<3,>=1.9.0 in /home/xmtosx/Work/Julep/julep/agents-api/.venv/lib/python3.12/site-packages (from julep) (2.10.2)\n",
      "Requirement already satisfied: python-dotenv<1.1,>=1.0 in /home/xmtosx/Work/Julep/julep/agents-api/.venv/lib/python3.12/site-packages (from julep) (1.0.1)\n",
      "Requirement already satisfied: ruamel-yaml<0.19,>=0.18.6 in /home/xmtosx/Work/Julep/julep/agents-api/.venv/lib/python3.12/site-packages (from julep) (0.18.6)\n",
      "Requirement already satisfied: sniffio in /home/xmtosx/Work/Julep/julep/agents-api/.venv/lib/python3.12/site-packages (from julep) (1.3.1)\n",
      "Requirement already satisfied: typing-extensions<5,>=4.7 in /home/xmtosx/Work/Julep/julep/agents-api/.venv/lib/python3.12/site-packages (from julep) (4.12.2)\n",
      "Requirement already satisfied: idna>=2.8 in /home/xmtosx/Work/Julep/julep/agents-api/.venv/lib/python3.12/site-packages (from anyio<5,>=3.5.0->julep) (3.10)\n",
      "Requirement already satisfied: certifi in /home/xmtosx/Work/Julep/julep/agents-api/.venv/lib/python3.12/site-packages (from httpx<1,>=0.23.0->julep) (2024.8.30)\n",
      "Requirement already satisfied: httpcore==1.* in /home/xmtosx/Work/Julep/julep/agents-api/.venv/lib/python3.12/site-packages (from httpx<1,>=0.23.0->julep) (1.0.7)\n",
      "Requirement already satisfied: h11<0.15,>=0.13 in /home/xmtosx/Work/Julep/julep/agents-api/.venv/lib/python3.12/site-packages (from httpcore==1.*->httpx<1,>=0.23.0->julep) (0.14.0)\n",
      "Requirement already satisfied: annotated-types>=0.6.0 in /home/xmtosx/Work/Julep/julep/agents-api/.venv/lib/python3.12/site-packages (from pydantic<3,>=1.9.0->julep) (0.7.0)\n",
      "Requirement already satisfied: pydantic-core==2.27.1 in /home/xmtosx/Work/Julep/julep/agents-api/.venv/lib/python3.12/site-packages (from pydantic<3,>=1.9.0->julep) (2.27.1)\n",
      "Requirement already satisfied: ruamel.yaml.clib>=0.2.7 in /home/xmtosx/Work/Julep/julep/agents-api/.venv/lib/python3.12/site-packages (from ruamel-yaml<0.19,>=0.18.6->julep) (0.2.12)\n"
     ]
    }
   ],
   "source": [
    "!pip install julep"
   ]
  },
  {
   "cell_type": "markdown",
   "metadata": {},
   "source": [
    "#### NOTE:\n",
    "\n",
    "- UUIDs are generated for both the agent and task to uniquely identify them within the system.\n",
    "- Once created, these UUIDs should remain unchanged for simplicity.\n",
    "- Altering a UUID will result in the system treating it as a new agent or task.\n",
    "- If a UUID is changed, the original agent or task will continue to exist in the system alongside the new one."
   ]
  },
  {
   "cell_type": "code",
   "execution_count": null,
   "metadata": {},
   "outputs": [],
   "source": [
    "import uuid\n",
    "\n",
    "AGENT_UUID = uuid.uuid4()\n",
    "TASK_UUID = uuid.uuid4()"
   ]
  },
  {
   "cell_type": "markdown",
   "metadata": {},
   "source": [
    "### Creating Julep Client with the API Key\n",
    "\n",
    "Get you API key from [here](https://dashboard.julep.ai/)"
   ]
  },
  {
   "cell_type": "code",
   "execution_count": 23,
   "metadata": {},
   "outputs": [],
   "source": [
    "from julep import Client\n",
    "\n",
    "JULEP_API_KEY = \"YOUR_JULEP_API_KEY\"\n",
    "\n",
    "# Create a Julep client\n",
    "client = Client(api_key=JULEP_API_KEY, environment=\"production\")"
   ]
  },
  {
   "cell_type": "markdown",
   "metadata": {},
   "source": [
    "### Creating an \"agent\"\n",
    "\n",
    "Agent is the object to which LLM settings, like model, temperature along with tools are scoped to.\n",
    "\n",
    "To learn more about the agent, please refer to the Agent section in [Julep Concepts](https://docs.julep.ai/docs/concepts/agents)."
   ]
  },
  {
   "cell_type": "code",
   "execution_count": 24,
   "metadata": {},
   "outputs": [],
   "source": [
    "agent = client.agents.create_or_update(\n",
    "    agent_id=AGENT_UUID,\n",
    "    name=\"Julep Email Assistant\",\n",
    "    about=(\n",
    "        \"You are an agent that handles emails for julep users.\"\n",
    "        + \" Julep is a platform for creating kick-ass AI agents.\"\n",
    "    ),\n",
    "    model=\"gpt-4o-mini\",\n",
    ")"
   ]
  },
  {
   "cell_type": "markdown",
   "metadata": {},
   "source": [
    "### Defining a Task\n",
    "\n",
    "Tasks in Julep are Github-Actions-style workflows that define long-running, multi-step actions.\n",
    "\n",
    "You can use them to conduct complex actions by defining them step-by-step.\n",
    "\n",
    "To learn more about tasks, please refer to the `Tasks` section in [Julep Concepts](https://docs.julep.ai/docs/concepts/tasks)."
   ]
  },
  {
   "cell_type": "code",
   "execution_count": null,
   "metadata": {},
   "outputs": [],
   "source": [
    "import yaml\n",
    "\n",
    "MAILGUN_PASSWORD = \"YOUR_MAILGUN_PASSWORD\"\n",
    "\n",
    "task_def = yaml.safe_load(f\"\"\"\n",
    "# yaml-language-server: $schema=https://raw.githubusercontent.com/julep-ai/julep/refs/heads/dev/schemas/create_task_request.json\n",
    "name: Julep Email Assistant\n",
    "description: A Julep agent that can send emails and search the documentation.\n",
    "\n",
    "########################################################\n",
    "####################### INPUT SCHEMA ###################\n",
    "########################################################\n",
    "input_schema:\n",
    "  type: object\n",
    "  properties:\n",
    "    from:\n",
    "      type: string\n",
    "    to:\n",
    "      type: string\n",
    "    subject:\n",
    "      type: string\n",
    "    body:\n",
    "      type: string\n",
    "\n",
    "                          \n",
    "########################################################\n",
    "####################### TOOLS ##########################\n",
    "########################################################\n",
    "\n",
    "# Define the tools that the task will use in this workflow\n",
    "tools:\n",
    "- name: send_email\n",
    "  type: integration\n",
    "  integration:\n",
    "    provider: email\n",
    "    setup:\n",
    "      host: smtp.mailgun.org\n",
    "      password: {MAILGUN_PASSWORD}\n",
    "      port: 587\n",
    "      user: postmaster@email.julep.ai\n",
    "\n",
    "- name: search_docs\n",
    "  type: system\n",
    "  system:\n",
    "    resource: agent\n",
    "    subresource: doc\n",
    "    operation: search\n",
    "  \n",
    "########################################################\n",
    "####################### MAIN WORKFLOW ##################\n",
    "########################################################\n",
    "\n",
    "main:\n",
    "# Step 0: Prompt the user for the email details\n",
    "- prompt: |-\n",
    "    $ f'''You are {{ agent.name }}. {{ agent.about }}\n",
    "\n",
    "    A user with email address {{ _.from }} has sent the following inquiry:\n",
    "    ------\n",
    "      Subject: {{ _.subject }}\n",
    "\n",
    "      {{ _.body }}\n",
    "    ------\n",
    "\n",
    "    Can you generate a query to search the documentation based on this email?\n",
    "    Just respond with the query as is and nothing else.'''\n",
    "\n",
    "  unwrap: true\n",
    "\n",
    "# Step 1: Search the documentation\n",
    "- tool: search_docs\n",
    "  arguments:\n",
    "    agent_id: {agent.id}\n",
    "    text: $ _\n",
    "    \n",
    "- prompt: >-\n",
    "    $ f'''You are {{ agent.name }}. {{ agent.about }}\n",
    "\n",
    "    A user with email address {{ steps[0].input.from }} has sent the following inquiry:\n",
    "    ------\n",
    "      Subject: {{ steps[0].input.subject }}\n",
    "\n",
    "      {{ steps[0].input.body }}\n",
    "    ------\n",
    "\n",
    "    Here are some possibly relevant snippets from the julep documentation:\n",
    "    {{ '\\\\n'.join([snippet.content for doc in _.docs for snippet in doc.snippets]) }}\n",
    "    \n",
    "    ========\n",
    "\n",
    "    Based on the above info, craft an email body to respond with as a json object.\n",
    "    The json object must have `subject` and `body` fields.'''\n",
    "  response_format:\n",
    "    type: json_object\n",
    "    \n",
    "  unwrap: true\n",
    "\n",
    "# Step 3: Extract the email\n",
    "- evaluate:\n",
    "    subject: $ extract_json(_)['subject']\n",
    "    body: $ extract_json(_)['body']\n",
    "\n",
    "# Step 4: Send the email\n",
    "- tool: send_email\n",
    "  arguments:\n",
    "    body: $ _.body\n",
    "    from: postmaster@email.julep.ai\n",
    "    subject: $  _.subject\n",
    "    to: $ steps[0].input['from']\n",
    "\"\"\")"
   ]
  },
  {
   "cell_type": "markdown",
   "metadata": {},
   "source": [
    "<span style=\"color:olive;\">Notes:</span>\n",
    "- The `unwrap: True` in the prompt step is used to unwrap the output of the prompt step (to unwrap the `choices[0].message.content` from the output of the model).\n",
    "- The `$` sign is used to differentiate between a Python expression and a string.\n",
    "- The `_` refers to the output of the previous step.\n",
    "- The `steps[index].input` refers to the input of the step at `index`.\n",
    "- The `steps[index].output` refers to the output of the step at `index`."
   ]
  },
  {
   "cell_type": "code",
   "execution_count": 28,
   "metadata": {},
   "outputs": [],
   "source": [
    "task = client.tasks.create_or_update(\n",
    "    agent_id=AGENT_UUID,\n",
    "    task_id=TASK_UUID,\n",
    "    **task_def,\n",
    ")"
   ]
  },
  {
   "cell_type": "markdown",
   "metadata": {},
   "source": [
    "### Creating an Execution\n",
    "\n",
    "An execution is a single run of a task. It is a way to run a task with a specific set of inputs.\n",
    "\n",
    "To learn more about executions, please refer to the `Executions` section in [Julep Concepts](https://docs.julep.ai/docs/concepts/execution)."
   ]
  },
  {
   "cell_type": "code",
   "execution_count": 30,
   "metadata": {},
   "outputs": [],
   "source": [
    "execution = client.executions.create(\n",
    "    task_id=task.id,\n",
    "    input={\"from\": \"diwank@julep.ai\", \"to\": \"help@agents.new\", \"subject\": \"what's up\", \"body\": \"sup\"},\n",
    ")"
   ]
  },
  {
   "cell_type": "code",
   "execution_count": 31,
   "metadata": {},
   "outputs": [
    {
     "data": {
      "text/plain": [
       "Execution(id='067a5e5c-0aab-7227-8000-61965b0ea1c4', created_at=datetime.datetime(2025, 2, 7, 10, 51, 44, 667044, tzinfo=datetime.timezone.utc), input={'to': 'help@agents.new', 'body': 'sup', 'from': 'diwank@julep.ai', 'subject': \"what's up\"}, status='starting', task_id='067a5e5c-06d9-788f-8000-b35d78e72bc0', updated_at=datetime.datetime(2025, 2, 7, 10, 51, 44, 705438, tzinfo=datetime.timezone.utc), error=None, metadata={}, output={'to': 'help@agents.new', 'body': 'sup', 'from': 'diwank@julep.ai', 'subject': \"what's up\"})"
      ]
     },
     "execution_count": 31,
     "metadata": {},
     "output_type": "execute_result"
    }
   ],
   "source": [
    "client.executions.get(execution.id)"
   ]
  },
  {
   "cell_type": "markdown",
   "metadata": {},
   "source": [
    "### Checking execution details and output\n",
    "\n",
    "There are multiple ways to get the execution details and the output:\n",
    "\n",
    "1. **Get Execution Details**: This method retrieves the details of the execution, including the output of the last transition that took place.\n",
    "\n",
    "2. **List Transitions**: This method lists all the task steps that have been executed up to this point in time, so the output of a successful execution will be the output of the last transition (first in the transition list as it is in reverse chronological order), which should have a type of `finish`.\n",
    "\n",
    "\n",
    "<span style=\"color:olive;\">Note: You need to wait for a few seconds for the execution to complete before you can get the final output, so feel free to run the following cells multiple times until you get the final output.</span>\n"
   ]
  },
  {
   "cell_type": "code",
   "execution_count": 35,
   "metadata": {},
   "outputs": [
    {
     "name": "stdout",
     "output_type": "stream",
     "text": [
      "Type:  init\n",
      "output:  {'to': 'help@agents.new', 'body': 'sup', 'from': 'diwank@julep.ai', 'subject': \"what's up\"}\n",
      "----------------------------------------------------------------------------------------------------\n",
      "Type:  step\n",
      "output:  I'm sorry, but I need more specific information from the email content to generate an appropriate query for the documentation search. Could you provide the subject and body of the email?\n",
      "----------------------------------------------------------------------------------------------------\n",
      "Type:  step\n",
      "output:  {'docs': [], 'time': 0.0017147064208984375}\n",
      "----------------------------------------------------------------------------------------------------\n",
      "Type:  step\n",
      "output:  To craft a response, I would need specific details from the user's inquiry and relevant snippets from the Julep documentation. Since I don't have access to the actual content of the inquiry or the documentation snippets, I'll provide a general template for how you might structure the JSON response:\n",
      "\n",
      "```json\n",
      "{\n",
      "  \"subject\": \"Re: [Original Subject of the Inquiry]\",\n",
      "  \"body\": \"Hello [User's Name],\\n\\nThank you for reaching out to us with your inquiry about Julep. Based on the information provided, here are some details that might help you:\\n\\n[Include relevant information or answers based on the snippets from the documentation]\\n\\nIf you have any further questions or need additional assistance, feel free to reply to this email.\\n\\nBest regards,\\n\\n[Your Name]\\nJulep Email Assistant\"\n",
      "}\n",
      "```\n",
      "\n",
      "To create a specific response, you would replace placeholders like `[Original Subject of the Inquiry]`, `[User's Name]`, and `[Include relevant information or answers based on the snippets from the documentation]` with the actual content from the user's email and the relevant documentation snippets.\n",
      "----------------------------------------------------------------------------------------------------\n",
      "Type:  step\n",
      "output:  {'body': \"Hello [User's Name],\\n\\nThank you for reaching out to us with your inquiry about Julep. Based on the information provided, here are some details that might help you:\\n\\n[Include relevant information or answers based on the snippets from the documentation]\\n\\nIf you have any further questions or need additional assistance, feel free to reply to this email.\\n\\nBest regards,\\n\\n[Your Name]\\nJulep Email Assistant\", 'subject': 'Re: [Original Subject of the Inquiry]'}\n",
      "----------------------------------------------------------------------------------------------------\n",
      "Type:  finish\n",
      "output:  {'success': True}\n",
      "----------------------------------------------------------------------------------------------------\n"
     ]
    }
   ],
   "source": [
    "execution_transitions = client.executions.transitions.list(\n",
    "    execution_id=execution.id).items\n",
    "\n",
    "for transition in reversed(execution_transitions):\n",
    "    print(\"Type: \", transition.type)\n",
    "    print(\"output: \", transition.output)\n",
    "    print(\"-\" * 100)"
   ]
  }
 ],
 "metadata": {
  "kernelspec": {
   "display_name": ".venv",
   "language": "python",
   "name": "python3"
  },
  "language_info": {
   "codemirror_mode": {
    "name": "ipython",
    "version": 3
   },
   "file_extension": ".py",
   "mimetype": "text/x-python",
   "name": "python",
   "nbconvert_exporter": "python",
   "pygments_lexer": "ipython3",
   "version": "3.12.3"
  }
 },
 "nbformat": 4,
 "nbformat_minor": 4
}
